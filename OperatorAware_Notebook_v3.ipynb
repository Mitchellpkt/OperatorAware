{
 "cells": [
  {
   "cell_type": "markdown",
   "metadata": {},
   "source": [
    "# OperatorAware\n",
    "## Urgency detection for emergency calls\n",
    "mitchellpkt@protonmail.com\n",
    "\n",
    "OperatorAware evaluates 911 calls in real-time to assess the nature and direness of the emergency being reported.\n",
    "\n",
    "As the human operator collects information, OperatorAware converts the audio stream to text, and scans for keywords indicating critical situations (e.g. the word \"gun\" indicating that there is likely a weapon involved). As the call continues, OperatorAware updates the likelihood of a situation involving:\n",
    "-  Weapons (e.g. inferred from use of words \"gun\" and \"shot\" by a caller)\n",
    "-  Medical emergencies \n",
    "-  Vehicle accidents\n",
    "-  etc\n",
    "\n",
    "## Example\n",
    "Caller reports: **\"My neighbor shot my leg, It's bleeding everywhere! He didn't mean to discharge the gun\"** \n",
    "\n",
    "OperatorAware uses the words {\"shot\", \"bleeding\", \"gun\"} to identify that this is a **medical emergency involving a weapon.**\n",
    "\n",
    "## Motivation\n",
    "There have been multiple reported instances of emergency operators hanging up on 911 callers during crises. \n",
    "\n",
    "For example, one operator who stated \"You could deal with it yourself. I’m not gonna deal with this, okay?” before hanging up on a caller that was performing CPR on a shooting victim ([Washington Post](https://www.washingtonpost.com/news/post-nation/wp/2015/07/29/deal-with-it-yourself-911-dispatcher-tells-panicked-caller-with-dying-friend/?utm_term=.eea24de1e5f3)). \n",
    "\n",
    "Another 911 dispatcher, infamous for ending a call with \"Ain't nobody got time for this,\" hung up on reports of street racing and armerd robberies (different [Washington Post](https://www.washingtonpost.com/news/post-nation/wp/2018/04/19/911-dispatcher-jailed-houston-woman-hung-up-on-thousands-of-callers/?noredirect=on&utm_term=.b4bb2b6e8f37) article). In this case, later analysis showed that thousands of calls shorter than 20 seconds were attributed to her hanging up. She stated that she hung up because at those times she did not want to talk to anyone ([BBC](http://www.bbc.com/news/world-us-canada-43822504)).\n",
    "\n",
    "While 911 callers may hang up at any time, in the vast majority of cases, **the 911 dispatcher should not be the party to terminate the call during a crisis.** If an operator is the party to end a call that has been ranked as likely-severe by the OperatorAware, this should trigger quality assurance review. The latter dispatcher mentioned above hung up on thousands of calls over multiple years. With OperatorAware, she would have come under close scrutiny by the end of her first week\n",
    "\n",
    "## Use case scale\n",
    "The [Washington Post](https://www.washingtonpost.com/news/post-nation/wp/2018/04/19/911-dispatcher-jailed-houston-woman-hung-up-on-thousands-of-callers/?noredirect=on&utm_term=.d2fbe079869a) notes: *This single consolidated center for 911 calls opened in 2003 and handles millions of calls every year, according to the Chronicle, or 9,000 a day. Two-thirds of those calls aren’t true emergencies*\n",
    "\n",
    "*The rest involve people in dire need.*\n",
    "\n",
    "## Changelog\n",
    "-  v1, local processing using PocketSphinx\n",
    "-  v2, trying 2 different implementations of Google voice-to-text (Inst 2 works!)\n",
    "-  v3, cleaning up to the one that works, moving forward\n"
   ]
  },
  {
   "cell_type": "markdown",
   "metadata": {},
   "source": [
    "# Preparation"
   ]
  },
  {
   "cell_type": "markdown",
   "metadata": {},
   "source": [
    "## Enter name of file to be transcribed"
   ]
  },
  {
   "cell_type": "code",
   "execution_count": 1,
   "metadata": {},
   "outputs": [],
   "source": [
    "sound_filename = 'fire_short'"
   ]
  },
  {
   "cell_type": "markdown",
   "metadata": {},
   "source": [
    "## Select dictionary"
   ]
  },
  {
   "cell_type": "code",
   "execution_count": 2,
   "metadata": {},
   "outputs": [],
   "source": [
    "# proof-of-concept dictionary. For actual implementation, would need multiple formes e.g. 'shoot' and 'shot'\n",
    "DangerWords = {'weaponWords': ['knife', 'gun', 'weapon', 'shoot', 'shot', 'armed', 'shotgun', 'handgun'],\n",
    "        'medicalWords': ['heart','stroke','breathing','unconscious','collapsed'],\n",
    "        'vehicleWords': ['crash', 'accident','airbag'],\n",
    "        'domesticWords': ['domestic','abuse','fight','argument','arguing','relationship'],\n",
    "        'fireWords': ['fire','burn','arson'],\n",
    "        'miscWords': ['violent','suicidal', 'suicide','drunk']};\n",
    "\n",
    "DangerDefs = {'weaponWords': 'weapon',\n",
    "        'medicalWords': 'medical emergency',\n",
    "        'vehicleWords': 'car crash',\n",
    "        'domesticWords': 'domestic altercation',\n",
    "        'fireWords': 'fire',\n",
    "        'miscWords': 'miscellaneuos'};"
   ]
  },
  {
   "cell_type": "markdown",
   "metadata": {},
   "source": [
    "## Import/install libraries"
   ]
  },
  {
   "cell_type": "code",
   "execution_count": 3,
   "metadata": {},
   "outputs": [],
   "source": [
    "#!pip install --upgrade google-cloud-speech\n",
    "\n",
    "import io\n",
    "import os\n",
    "\n",
    "# Imports the Google Cloud client library\n",
    "from google.cloud import speech\n",
    "from google.cloud.speech import enums\n",
    "from google.cloud.speech import types"
   ]
  },
  {
   "cell_type": "markdown",
   "metadata": {},
   "source": [
    "## Load in the audio file"
   ]
  },
  {
   "cell_type": "code",
   "execution_count": 4,
   "metadata": {
    "scrolled": true
   },
   "outputs": [],
   "source": [
    "### Form filename\n",
    "file_name = os.path.join(\n",
    "     os.getcwd(),\n",
    "    'Real_911Calls',\n",
    "    sound_filename + '.flac')\n",
    "\n",
    "### Load the audio into memory\n",
    "with io.open(file_name, 'rb') as audio_file:\n",
    "    content = audio_file.read()\n",
    "    audio_data = types.RecognitionAudio(content=content)\n",
    "\n",
    "audio_config = types.RecognitionConfig(\n",
    "    #encoding=enums.RecognitionConfig.AudioEncoding.FLAC,\n",
    "    language_code='en-US')\n"
   ]
  },
  {
   "cell_type": "markdown",
   "metadata": {},
   "source": [
    "## Use hash of audio data to store its transcription"
   ]
  },
  {
   "cell_type": "code",
   "execution_count": 5,
   "metadata": {},
   "outputs": [
    {
     "name": "stdout",
     "output_type": "stream",
     "text": [
      "070164a969c89fc5c85a96c74cfb1abec170f744ca63f6b3475debb9d484b83e\n"
     ]
    }
   ],
   "source": [
    "import hashlib\n",
    "hash_object = hashlib.sha256(audio_data.SerializePartialToString())\n",
    "hex_dig = hash_object.hexdigest()\n",
    "print(hex_dig)"
   ]
  },
  {
   "cell_type": "markdown",
   "metadata": {},
   "source": [
    "## Instantiate a client"
   ]
  },
  {
   "cell_type": "code",
   "execution_count": 6,
   "metadata": {},
   "outputs": [
    {
     "name": "stderr",
     "output_type": "stream",
     "text": [
      "/home/m/anaconda3/lib/python3.6/site-packages/google/auth/_default.py:66: UserWarning: Your application has authenticated using end user credentials from Google Cloud SDK. We recommend that most server applications use service accounts instead. If your application continues to use end user credentials from Cloud SDK, you might receive a \"quota exceeded\" or \"API not enabled\" error. For more information about service accounts, see https://cloud.google.com/docs/authentication/.\n",
      "  warnings.warn(_CLOUD_SDK_CREDENTIALS_WARNING)\n"
     ]
    }
   ],
   "source": [
    "!export GOOGLE_APPLICATION_CREDENTIALS=\"/home/m/Dropbox/Projects/OperatorAware/GitPath/operatoraware/OperatorAware-5f653aaf3399.json\"\n",
    "client = speech.SpeechClient()"
   ]
  },
  {
   "cell_type": "markdown",
   "metadata": {},
   "source": [
    "## Has this call been transcribed?"
   ]
  },
  {
   "cell_type": "code",
   "execution_count": 7,
   "metadata": {},
   "outputs": [],
   "source": [
    "# Where would/should the transcript file be stored\n",
    "\n",
    "transcription_filename = os.path.join(\n",
    "     os.getcwd(),\n",
    "    'transcriptions',\n",
    "    sound_filename+'.txt')\n",
    "\n",
    "does_transcription_exist = os.path.isfile(transcription_filename)\n",
    "\n",
    "# FORCE API\n",
    "does_transcription_exist = 0"
   ]
  },
  {
   "cell_type": "markdown",
   "metadata": {},
   "source": [
    "## Process or import the call"
   ]
  },
  {
   "cell_type": "code",
   "execution_count": 8,
   "metadata": {},
   "outputs": [
    {
     "name": "stdout",
     "output_type": "stream",
     "text": [
      "***************************\n",
      "Fresh transcription stored in: /home/m/Dropbox/Projects/OperatorAware/GitPath/operatoraware/transcriptions/fire_short.txt\n",
      "Transcription:\n",
      " hello I am calling to report a fire my flask application is going to burn\n"
     ]
    }
   ],
   "source": [
    "if does_transcription_exist == True:\n",
    "    with open(transcription_filename,'r') as f_open:\n",
    "        transcription_str = f_open.read()\n",
    "        \n",
    "    print('***************************')\n",
    "    print('Imported data from:' + transcription_filename)\n",
    "    print('Transcription:')\n",
    "    print(transcription_str)\n",
    "\n",
    "else:\n",
    "    # Detect speech in the audio file\n",
    "    response = client.recognize(audio_config, audio_data)\n",
    "\n",
    "    transcription_str = ''\n",
    "    for result in response.results:\n",
    "        #print('Transcript: {}'.format(result.alternatives[0].transcript))\n",
    "        transcription_str += ' ' + format(result.alternatives[0].transcript)\n",
    "        \n",
    "    with open(transcription_filename,'w') as f_open:\n",
    "        f_open.write(transcription_str)\n",
    "        f_open.close()\n",
    "    \n",
    "    print('***************************')\n",
    "    print('Fresh transcription stored in: '+ transcription_filename)\n",
    "    print('Transcription:')\n",
    "    print(transcription_str)\n",
    "        "
   ]
  },
  {
   "cell_type": "markdown",
   "metadata": {},
   "source": [
    "## Display transcription"
   ]
  },
  {
   "cell_type": "code",
   "execution_count": 13,
   "metadata": {},
   "outputs": [
    {
     "name": "stdout",
     "output_type": "stream",
     "text": [
      "<class 'str'>\n",
      "....................\n",
      " hello I am calling to report a fire my flask application is going to burn\n"
     ]
    }
   ],
   "source": [
    "print(type(transcription_str))\n",
    "print('.'*20)\n",
    "print(transcription_str)"
   ]
  },
  {
   "cell_type": "markdown",
   "metadata": {},
   "source": [
    "\n",
    "## Search transcription for keywords"
   ]
  },
  {
   "cell_type": "code",
   "execution_count": 11,
   "metadata": {},
   "outputs": [
    {
     "name": "stdout",
     "output_type": "stream",
     "text": [
      "Possible fire: fire\n",
      "Possible fire: burn\n"
     ]
    }
   ],
   "source": [
    "HeardWords = []\n",
    "is_anything_important = 0\n",
    "\n",
    "for danger_cat in DangerWords.keys():\n",
    "    ThisCategory = DangerWords[danger_cat]\n",
    "    for keyword in ThisCategory:\n",
    "        if keyword in transcription_str:\n",
    "            is_anything_important = 1\n",
    "            print('Possible ' + DangerDefs[danger_cat] + ': ' + keyword)"
   ]
  },
  {
   "cell_type": "markdown",
   "metadata": {},
   "source": [
    "## Classify call"
   ]
  },
  {
   "cell_type": "code",
   "execution_count": 12,
   "metadata": {},
   "outputs": [
    {
     "name": "stdout",
     "output_type": "stream",
     "text": [
      "!!!!!!!!!!!!!!!!!!!!!!!!!!!!!!!!!!!!!!!!!!!!!!!\n",
      "Likely emergency; operator should not terminate\n"
     ]
    }
   ],
   "source": [
    "if is_anything_important == 1:\n",
    "    print('!!!!!!!!!!!!!!!!!!!!!!!!!!!!!!!!!!!!!!!!!!!!!!!')\n",
    "    print('Likely emergency; operator should not terminate')\n",
    "else:\n",
    "    print('---------------------')\n",
    "    print('No emergency detected')"
   ]
  }
 ],
 "metadata": {
  "kernelspec": {
   "display_name": "Python 3",
   "language": "python",
   "name": "python3"
  },
  "language_info": {
   "codemirror_mode": {
    "name": "ipython",
    "version": 3
   },
   "file_extension": ".py",
   "mimetype": "text/x-python",
   "name": "python",
   "nbconvert_exporter": "python",
   "pygments_lexer": "ipython3",
   "version": "3.6.5"
  }
 },
 "nbformat": 4,
 "nbformat_minor": 2
}

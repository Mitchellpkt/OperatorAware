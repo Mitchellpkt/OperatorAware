{
 "cells": [
  {
   "cell_type": "code",
   "execution_count": 1,
   "metadata": {},
   "outputs": [],
   "source": [
    "from return_dictionary import *"
   ]
  },
  {
   "cell_type": "code",
   "execution_count": 3,
   "metadata": {},
   "outputs": [
    {
     "name": "stdout",
     "output_type": "stream",
     "text": [
      "{'weaponWords': ['knife', 'gun', 'weapon', 'shoot', 'shot', 'armed', 'shotgun', 'handgun'], 'medicalWords': ['heart', 'stroke', 'breathing', 'unconscious', 'collapsed'], 'vehicleWords': ['crash', 'accident', 'airbag'], 'domesticWords': ['domestic', 'abuse', 'fight', 'argument', 'arguing', 'relationship'], 'fireWords': ['fire', 'burn', 'arson'], 'miscWords': ['violent', 'suicidal', 'suicide', 'drunk']}\n"
     ]
    }
   ],
   "source": [
    "DangerWords, DangerName = return_dictionary(str_dict_version='newest')\n",
    "print(DangerWords)\n"
   ]
  },
  {
   "cell_type": "code",
   "execution_count": 8,
   "metadata": {},
   "outputs": [],
   "source": [
    "# load_audio_from_filename.py\n",
    "# Loads audio waveform, given inpute filename string\n",
    "# \n",
    "#\n",
    "# mitchellpkt@protonmail.com\n",
    "# github.com/mitchellpkt/operatoraware\n",
    "#\n",
    "##########\n",
    "# INPUTS:\n",
    "#\n",
    "# >> str_audio_filename - a string pointing to the file to be read\n",
    "#\n",
    "\n",
    "###########\n",
    "# OUTPUTS:\n",
    "# >> audio_data - the data for the audio file\n",
    "# >> audio_config - information about encoding\n",
    "\n",
    "###########\n",
    "# CHANGELOG:\n",
    "# >> expand to formats beyond FLAC\n",
    "\n",
    "########\n",
    "# TO DO:\n",
    "#\n",
    "\n",
    "#############\n",
    "# EXAMPLE:\n",
    "#\n",
    "\n",
    "def load_audio_from_filename(str_audio_filename):\n",
    "    import io\n",
    "    from google.cloud.speech import enums\n",
    "    from google.cloud.speech import types\n",
    "    \n",
    "   ### Form filename\n",
    "    #file_name = os.path.join(\n",
    "    #    os.getcwd(),\n",
    "    #    'Real_911Calls',\n",
    "    #    sound_filename + '.flac')\n",
    "\n",
    "    # Confirm that this is a FLAC file\n",
    "    str_extension = str_audio_filename[-4:]\n",
    "    if str_extension.upper() != 'FLAC':\n",
    "        raise ValueError('This version of load_audio_from_filename only works for FLAC files')\n",
    "\n",
    "\n",
    "    ### Load the audio into memory\n",
    "    with io.open(str_audio_filename, 'rb') as audio_file:\n",
    "        content = audio_file.read()\n",
    "        audio_data = types.RecognitionAudio(content=content)\n",
    "\n",
    "    audio_config = types.RecognitionConfig(\n",
    "        encoding=enums.RecognitionConfig.AudioEncoding.FLAC,\n",
    "        # sample_rate_hertz=8000,#16000\n",
    "        language_code='en-US')\n",
    "\n",
    "    return audio_data, audio_config"
   ]
  },
  {
   "cell_type": "code",
   "execution_count": 11,
   "metadata": {},
   "outputs": [
    {
     "ename": "ValueError",
     "evalue": "This version of load_audio_from_filename only works for FLAC files",
     "output_type": "error",
     "traceback": [
      "\u001b[0;31m---------------------------------------------------------------------------\u001b[0m",
      "\u001b[0;31mValueError\u001b[0m                                Traceback (most recent call last)",
      "\u001b[0;32m<ipython-input-11-29f5c94b6842>\u001b[0m in \u001b[0;36m<module>\u001b[0;34m()\u001b[0m\n\u001b[0;32m----> 1\u001b[0;31m \u001b[0mload_audio_from_filename\u001b[0m\u001b[0;34m(\u001b[0m\u001b[0;34m'fire_short.boop'\u001b[0m\u001b[0;34m)\u001b[0m\u001b[0;34m\u001b[0m\u001b[0m\n\u001b[0m",
      "\u001b[0;32m<ipython-input-8-58e46a98b66b>\u001b[0m in \u001b[0;36mload_audio_from_filename\u001b[0;34m(str_audio_filename)\u001b[0m\n\u001b[1;32m     43\u001b[0m     \u001b[0mstr_extension\u001b[0m \u001b[0;34m=\u001b[0m \u001b[0mstr_audio_filename\u001b[0m\u001b[0;34m[\u001b[0m\u001b[0;34m-\u001b[0m\u001b[0;36m4\u001b[0m\u001b[0;34m:\u001b[0m\u001b[0;34m]\u001b[0m\u001b[0;34m\u001b[0m\u001b[0m\n\u001b[1;32m     44\u001b[0m     \u001b[0;32mif\u001b[0m \u001b[0mstr_extension\u001b[0m\u001b[0;34m.\u001b[0m\u001b[0mupper\u001b[0m\u001b[0;34m(\u001b[0m\u001b[0;34m)\u001b[0m \u001b[0;34m!=\u001b[0m \u001b[0;34m'FLAC'\u001b[0m\u001b[0;34m:\u001b[0m\u001b[0;34m\u001b[0m\u001b[0m\n\u001b[0;32m---> 45\u001b[0;31m         \u001b[0;32mraise\u001b[0m \u001b[0mValueError\u001b[0m\u001b[0;34m(\u001b[0m\u001b[0;34m'This version of load_audio_from_filename only works for FLAC files'\u001b[0m\u001b[0;34m)\u001b[0m\u001b[0;34m\u001b[0m\u001b[0m\n\u001b[0m\u001b[1;32m     46\u001b[0m \u001b[0;34m\u001b[0m\u001b[0m\n\u001b[1;32m     47\u001b[0m \u001b[0;34m\u001b[0m\u001b[0m\n",
      "\u001b[0;31mValueError\u001b[0m: This version of load_audio_from_filename only works for FLAC files"
     ]
    }
   ],
   "source": [
    "load_audio_from_filename('fire_short.boop')"
   ]
  },
  {
   "cell_type": "code",
   "execution_count": 13,
   "metadata": {},
   "outputs": [
    {
     "data": {
      "text/plain": [
       "{'lol', 'potato'}"
      ]
     },
     "execution_count": 13,
     "metadata": {},
     "output_type": "execute_result"
    }
   ],
   "source": [
    "set(('lol','potato','lol'))"
   ]
  },
  {
   "cell_type": "code",
   "execution_count": null,
   "metadata": {},
   "outputs": [],
   "source": []
  }
 ],
 "metadata": {
  "kernelspec": {
   "display_name": "Python 3",
   "language": "python",
   "name": "python3"
  },
  "language_info": {
   "codemirror_mode": {
    "name": "ipython",
    "version": 3
   },
   "file_extension": ".py",
   "mimetype": "text/x-python",
   "name": "python",
   "nbconvert_exporter": "python",
   "pygments_lexer": "ipython3",
   "version": "3.6.5"
  }
 },
 "nbformat": 4,
 "nbformat_minor": 2
}

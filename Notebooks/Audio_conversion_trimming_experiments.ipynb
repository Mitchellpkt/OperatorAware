{
 "cells": [
  {
   "cell_type": "markdown",
   "metadata": {},
   "source": [
    "# Test audio conversions and trimming\n",
    "\n",
    "Need FLAC input for `transcribe_audio_cloud()` however, would like to accept other inputs\n",
    "\n",
    "-----\n",
    "\n",
    "START: MP3, WAV, etc files\n",
    "\n",
    "<... need to slice, and convert, but order is optional ...>\n",
    "\n",
    "END: FLAC for transcription\n",
    "\n",
    "-----\n",
    "\n",
    "Two promising examples:\n",
    "-  pydub\n",
    "-  python audio tools\n",
    "Both described here: https://stackoverflow.com/questions/23925494/how-to-convert-wav-to-flac-from-python"
   ]
  },
  {
   "cell_type": "markdown",
   "metadata": {},
   "source": [
    "# Import necessities"
   ]
  },
  {
   "cell_type": "code",
   "execution_count": 26,
   "metadata": {},
   "outputs": [],
   "source": [
    "# !pip install pydub\n",
    "# !sudo apt-get install ffmpeg"
   ]
  },
  {
   "cell_type": "markdown",
   "metadata": {},
   "source": [
    "# Define conversion function"
   ]
  },
  {
   "cell_type": "code",
   "execution_count": 38,
   "metadata": {},
   "outputs": [],
   "source": [
    "def convert_audio_to_flac(str_audio_filename):\n",
    "    # !pip install pydub\n",
    "    # !sudo apt-get install ffmpeg\n",
    "\n",
    "    from pydub import AudioSegment\n",
    "    import re\n",
    "    import os\n",
    "\n",
    "    str_extension = str_audio_filename[-3:]\n",
    "\n",
    "    print('Converting from ' + str_extension)\n",
    "\n",
    "    if str_extension == 'LAC':\n",
    "        new_filename = str_audio_filename[0:-4] + 'flac'\n",
    "        os.rename(str_audio_filename, new_filename)\n",
    "    else:\n",
    "        # Read in the audio ## moved\n",
    "        audio_data = AudioSegment.from_file(str_audio_filename ## moved\n",
    "\n",
    "        # Export to the new format\n",
    "        new_filename = re.sub('(?i)' + re.escape(str_extension), lambda m: 'flac', str_audio_filename) ## moved\n",
    "        audio_data.export(new_filename, format=\"flac\")\n",
    "\n",
    "    return new_filename"
   ]
  },
  {
   "cell_type": "markdown",
   "metadata": {},
   "source": [
    "# Define splicing function"
   ]
  },
  {
   "cell_type": "code",
   "execution_count": 79,
   "metadata": {},
   "outputs": [
    {
     "data": {
      "text/plain": [
       "[0, 1, 2, 3]"
      ]
     },
     "execution_count": 79,
     "metadata": {},
     "output_type": "execute_result"
    }
   ],
   "source": [
    "list(range(0,4))"
   ]
  },
  {
   "cell_type": "code",
   "execution_count": 76,
   "metadata": {},
   "outputs": [
    {
     "name": "stdout",
     "output_type": "stream",
     "text": [
      "Converting from mp3\n"
     ]
    }
   ],
   "source": [
    "new_filename = convert_audio_to_flac('murder_long.mp3')\n",
    "num_segments = chop_up_audio(new_filename)"
   ]
  },
  {
   "cell_type": "markdown",
   "metadata": {},
   "source": [
    "# Outside of function"
   ]
  },
  {
   "cell_type": "code",
   "execution_count": 35,
   "metadata": {},
   "outputs": [],
   "source": [
    "from pydub import AudioSegment\n",
    "audio_data = AudioSegment.from_file('murder_short.flac')"
   ]
  },
  {
   "cell_type": "code",
   "execution_count": 36,
   "metadata": {},
   "outputs": [],
   "source": [
    "audio_data = AudioSegment.from_file('murder_short.flac')"
   ]
  },
  {
   "cell_type": "code",
   "execution_count": 37,
   "metadata": {},
   "outputs": [
    {
     "data": {
      "text/plain": [
       "36.617125"
      ]
     },
     "execution_count": 37,
     "metadata": {},
     "output_type": "execute_result"
    }
   ],
   "source": [
    "audio_data.duration_seconds"
   ]
  },
  {
   "cell_type": "code",
   "execution_count": 24,
   "metadata": {},
   "outputs": [
    {
     "name": "stdout",
     "output_type": "stream",
     "text": [
      "Converting from mp3\n"
     ]
    },
    {
     "data": {
      "text/plain": [
       "'murder_short.flac'"
      ]
     },
     "execution_count": 24,
     "metadata": {},
     "output_type": "execute_result"
    }
   ],
   "source": [
    "audio_data."
   ]
  },
  {
   "cell_type": "code",
   "execution_count": 12,
   "metadata": {},
   "outputs": [
    {
     "data": {
      "text/plain": [
       "'aoeusntaoehus'"
      ]
     },
     "execution_count": 12,
     "metadata": {},
     "output_type": "execute_result"
    }
   ],
   "source": [
    "'aoeusntaoehusnh'[0:-2]"
   ]
  },
  {
   "cell_type": "code",
   "execution_count": null,
   "metadata": {},
   "outputs": [],
   "source": []
  }
 ],
 "metadata": {
  "kernelspec": {
   "display_name": "Python 3",
   "language": "python",
   "name": "python3"
  },
  "language_info": {
   "codemirror_mode": {
    "name": "ipython",
    "version": 3
   },
   "file_extension": ".py",
   "mimetype": "text/x-python",
   "name": "python",
   "nbconvert_exporter": "python",
   "pygments_lexer": "ipython3",
   "version": "3.6.5"
  }
 },
 "nbformat": 4,
 "nbformat_minor": 2
}

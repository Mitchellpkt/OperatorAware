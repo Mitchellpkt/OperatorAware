{
 "cells": [
  {
   "cell_type": "markdown",
   "metadata": {},
   "source": [
    "# OperatorAware\n",
    "## Urgency detection for emergency calls\n",
    "mitchellpkt@protonmail.com\n",
    "\n",
    "OperatorAware evaluates 911 calls in real-time to assess the nature and direness of the emergency being reported.\n",
    "\n",
    "As the human operator collects information, OperatorAware converts the audio stream to text, and scans for keywords indicating critical situations (e.g. the word \"gun\" indicating that there is likely a weapon involved). As the call continues, OperatorAware updates the likelihood of a situation involving:\n",
    "-  Weapons (e.g. inferred from use of words \"gun\" and \"shot\" by a caller)\n",
    "-  Medical emergencies \n",
    "-  Vehicle accidents\n",
    "-  etc\n",
    "\n",
    "## Example\n",
    "Caller reports: **\"My neighbor shot my leg, It's bleeding everywhere! He didn't mean to discharge the gun\"** \n",
    "\n",
    "OperatorAware uses the words {\"shot\", \"bleeding\", \"gun\"} to identify that this is a **medical emergency involving a weapon.**\n",
    "\n",
    "## Motivation\n",
    "There have been multiple reported instances of emergency operators hanging up on 911 callers during crises. \n",
    "\n",
    "For example, one operator who stated \"You could deal with it yourself. I’m not gonna deal with this, okay?” before hanging up on a caller that was performing CPR on a shooting victim ([Washington Post](https://www.washingtonpost.com/news/post-nation/wp/2015/07/29/deal-with-it-yourself-911-dispatcher-tells-panicked-caller-with-dying-friend/?utm_term=.eea24de1e5f3)). \n",
    "\n",
    "Another 911 dispatcher, infamous for ending a call with \"Ain't nobody got time for this,\" hung up on reports of street racing and armerd robberies (different [Washington Post](https://www.washingtonpost.com/news/post-nation/wp/2018/04/19/911-dispatcher-jailed-houston-woman-hung-up-on-thousands-of-callers/?noredirect=on&utm_term=.b4bb2b6e8f37) article). In this case, later analysis showed that thousands of calls shorter than 20 seconds were attributed to her hanging up. She stated that she hung up because at those times she did not want to talk to anyone ([BBC](http://www.bbc.com/news/world-us-canada-43822504)).\n",
    "\n",
    "While 911 callers may hang up at any time, in the vast majority of cases, **the 911 dispatcher should not be the party to terminate the call during a crisis.** If an operator is the party to end a call that has been ranked as likely-severe by the OperatorAware, this should trigger quality assurance review. The latter dispatcher mentioned above hung up on thousands of calls over multiple years. With OperatorAware, she would have come under close scrutiny by the end of her first week\n",
    "\n",
    "## Use case scale\n",
    "The [Washington Post](https://www.washingtonpost.com/news/post-nation/wp/2018/04/19/911-dispatcher-jailed-houston-woman-hung-up-on-thousands-of-callers/?noredirect=on&utm_term=.d2fbe079869a) notes: *This single consolidated center for 911 calls opened in 2003 and handles millions of calls every year, according to the Chronicle, or 9,000 a day. Two-thirds of those calls aren’t true emergencies*\n",
    "\n",
    "*The rest involve people in dire need.*\n",
    "\n"
   ]
  },
  {
   "cell_type": "markdown",
   "metadata": {},
   "source": [
    "# Preparation"
   ]
  },
  {
   "cell_type": "markdown",
   "metadata": {},
   "source": [
    "## Enter name of file to be transcribed"
   ]
  },
  {
   "cell_type": "code",
   "execution_count": 2,
   "metadata": {},
   "outputs": [],
   "source": [
    "sound_filename = 'brooklyn_murder_16signed_short.raw'"
   ]
  },
  {
   "cell_type": "markdown",
   "metadata": {},
   "source": [
    "## Select dictionary"
   ]
  },
  {
   "cell_type": "code",
   "execution_count": 3,
   "metadata": {},
   "outputs": [],
   "source": [
    "# proof-of-concept dictionary. For actual implementation, would need multiple formes e.g. 'shoot' and 'shot'\n",
    "DangerWords = {'weaponWords': ['knife', 'gun', 'weapon', 'shoot', 'shot', 'armed'],\n",
    "        'medicalWords': ['heart','stroke','breathing','unconscious','collapsed'],\n",
    "        'vehicleWords': ['crash', 'accident','airbag'],\n",
    "        'miscWords': ['violent','suicidal', 'suicide']};"
   ]
  },
  {
   "cell_type": "markdown",
   "metadata": {},
   "source": [
    "## Import/install libraries"
   ]
  },
  {
   "cell_type": "code",
   "execution_count": 13,
   "metadata": {},
   "outputs": [],
   "source": [
    "#!pip install --upgrade google-cloud-speech\n",
    "\n",
    "import io\n",
    "import os\n",
    "from google.cloud.speech import types, enums"
   ]
  },
  {
   "cell_type": "markdown",
   "metadata": {},
   "source": [
    "## Load in the audio file"
   ]
  },
  {
   "cell_type": "code",
   "execution_count": 14,
   "metadata": {
    "scrolled": true
   },
   "outputs": [],
   "source": [
    "### Form filename\n",
    "file_name = os.path.join(\n",
    "     os.getcwd(),\n",
    "    'Real_911Calls',\n",
    "    sound_filename)\n",
    "\n",
    "### Load the audio into memory\n",
    "with io.open(file_name, 'rb') as audio_file:\n",
    "    content = audio_file.read()\n",
    "    audio = types.RecognitionAudio(content=content)\n",
    "\n",
    "config = types.RecognitionConfig(\n",
    "    encoding=enums.RecognitionConfig.AudioEncoding.LINEAR16,\n",
    "    sample_rate_hertz=16000,\n",
    "    language_code='en-US')\n"
   ]
  },
  {
   "cell_type": "markdown",
   "metadata": {},
   "source": [
    "# Try to follow instruction set 1:\n",
    "https://stackoverflow.com/questions/38703853/how-to-use-google-speech-recognition-api-in-python"
   ]
  },
  {
   "cell_type": "markdown",
   "metadata": {},
   "source": [
    "## Import libraries"
   ]
  },
  {
   "cell_type": "code",
   "execution_count": 6,
   "metadata": {},
   "outputs": [],
   "source": [
    "import argparse\n",
    "import base64\n",
    "import json\n",
    "\n",
    "from googleapiclient import discovery\n",
    "import httplib2\n",
    "from oauth2client.client import GoogleCredentials"
   ]
  },
  {
   "cell_type": "markdown",
   "metadata": {},
   "source": [
    "## Set discovery URL"
   ]
  },
  {
   "cell_type": "code",
   "execution_count": 15,
   "metadata": {},
   "outputs": [],
   "source": [
    "DISCOVERY_URL = ('https://{api}.googleapis.com/$discovery/rest?'\n",
    "                 'version={apiVersion}')"
   ]
  },
  {
   "cell_type": "markdown",
   "metadata": {},
   "source": [
    "## Define get_speech_service"
   ]
  },
  {
   "cell_type": "code",
   "execution_count": 16,
   "metadata": {},
   "outputs": [],
   "source": [
    "def get_speech_service():\n",
    "    credentials = GoogleCredentials.get_application_default().create_scoped(\n",
    "        ['https://www.googleapis.com/auth/cloud-platform'])\n",
    "    http = httplib2.Http()\n",
    "    credentials.authorize(http)\n",
    "\n",
    "    return discovery.build(\n",
    "        'speech', 'v1beta1', http=http, discoveryServiceUrl=DISCOVERY_URL)"
   ]
  },
  {
   "cell_type": "markdown",
   "metadata": {},
   "source": [
    "## Define main_speech"
   ]
  },
  {
   "cell_type": "code",
   "execution_count": 17,
   "metadata": {},
   "outputs": [],
   "source": [
    "def main_speech(speech_file): # I changed the name for Jupyter\n",
    "    \"\"\"Transcribe the given audio file.\n",
    "\n",
    "    Args:\n",
    "        speech_file: the name of the audio file.\n",
    "    \"\"\"\n",
    "    with open(speech_file, 'rb') as speech:\n",
    "        speech_content = base64.b64encode(speech.read())\n",
    "\n",
    "    service = get_speech_service()\n",
    "    service_request = service.speech().syncrecognize(\n",
    "        body={\n",
    "            'config': {\n",
    "                'encoding': 'LINEAR16',  # raw 16-bit signed LE samples\n",
    "                'sampleRate': 16000,  # 16 khz\n",
    "                'languageCode': 'en-US',  # a BCP-47 language tag\n",
    "            },\n",
    "            'audio': {\n",
    "                'content': speech_content.decode('UTF-8')\n",
    "                }\n",
    "            })\n",
    "    response = service_request.execute()\n",
    "    print(json.dumps(response))"
   ]
  },
  {
   "cell_type": "code",
   "execution_count": 18,
   "metadata": {},
   "outputs": [
    {
     "name": "stdout",
     "output_type": "stream",
     "text": [
      "{}\n"
     ]
    }
   ],
   "source": [
    "main_speech(file_name)"
   ]
  },
  {
   "cell_type": "markdown",
   "metadata": {},
   "source": [
    "# Try to follow instruction set 2:\n",
    "https://cloud.google.com/speech-to-text/docs/quickstart-client-libraries"
   ]
  },
  {
   "cell_type": "code",
   "execution_count": null,
   "metadata": {},
   "outputs": [],
   "source": [
    "# Imports the Google Cloud client library\n",
    "from google.cloud import speech\n",
    "from google.cloud.speech import enums\n",
    "from google.cloud.speech import types"
   ]
  },
  {
   "cell_type": "markdown",
   "metadata": {},
   "source": [
    "## Instantiate a client"
   ]
  },
  {
   "cell_type": "code",
   "execution_count": null,
   "metadata": {},
   "outputs": [],
   "source": [
    "!export GOOGLE_APPLICATION_CREDENTIALS=\"/home/m/Dropbox/Projects/OperatorAware/GitPath/operatoraware/OperatorAware-5f653aaf3399.json\"\n",
    "client = speech.SpeechClient()"
   ]
  },
  {
   "cell_type": "markdown",
   "metadata": {},
   "source": [
    "## Transcribe the call"
   ]
  },
  {
   "cell_type": "code",
   "execution_count": null,
   "metadata": {},
   "outputs": [],
   "source": [
    "# Detect speech in the audio file\n",
    "response = client.recognize(config, audio)"
   ]
  },
  {
   "cell_type": "markdown",
   "metadata": {},
   "source": [
    "## Display transcription"
   ]
  },
  {
   "cell_type": "code",
   "execution_count": null,
   "metadata": {},
   "outputs": [],
   "source": [
    "for result in response.results:\n",
    "    print('Transcript: {}'.format(result.alternatives[0].transcript))"
   ]
  }
 ],
 "metadata": {
  "kernelspec": {
   "display_name": "Python 3",
   "language": "python",
   "name": "python3"
  },
  "language_info": {
   "codemirror_mode": {
    "name": "ipython",
    "version": 3
   },
   "file_extension": ".py",
   "mimetype": "text/x-python",
   "name": "python",
   "nbconvert_exporter": "python",
   "pygments_lexer": "ipython3",
   "version": "3.6.5"
  }
 },
 "nbformat": 4,
 "nbformat_minor": 2
}

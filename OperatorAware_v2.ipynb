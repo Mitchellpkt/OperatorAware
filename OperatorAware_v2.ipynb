{
 "cells": [
  {
   "cell_type": "markdown",
   "metadata": {},
   "source": [
    "# OperatorAware\n",
    "## Urgency detection for emergency calls\n",
    "mitchellpkt@protonmail.com\n",
    "\n",
    "OperatorAware evaluates 911 calls in real-time to assess the nature and direness of the emergency being reported.\n",
    "\n",
    "As the human operator collects information, OperatorAware converts the audio stream to text, and scans for keywords indicating critical situations (e.g. the word \"gun\" indicating that there is likely a weapon involved). As the call continues, OperatorAware updates the likelihood of a situation involving:\n",
    "-  Weapons (e.g. inferred from use of words \"gun\" and \"shot\" by a caller)\n",
    "-  Medical emergencies \n",
    "-  Vehicle accidents\n",
    "-  etc\n",
    "\n",
    "## Example\n",
    "Caller reports: **\"My neighbor shot my leg, It's bleeding everywhere! He didn't mean to discharge the gun\"** \n",
    "\n",
    "OperatorAware uses the words {\"shot\", \"bleeding\", \"gun\"} to identify that this is a **medical emergency involving a weapon.**\n",
    "\n",
    "## Motivation\n",
    "There have been multiple reported instances of emergency operators hanging up on 911 callers during crises. \n",
    "\n",
    "For example, one operator who stated \"You could deal with it yourself. I’m not gonna deal with this, okay?” before hanging up on a caller that was performing CPR on a shooting victim ([Washington Post](https://www.washingtonpost.com/news/post-nation/wp/2015/07/29/deal-with-it-yourself-911-dispatcher-tells-panicked-caller-with-dying-friend/?utm_term=.eea24de1e5f3)). \n",
    "\n",
    "Another 911 dispatcher, infamous for ending a call with \"Ain't nobody got time for this,\" hung up on reports of street racing and armerd robberies (different [Washington Post](https://www.washingtonpost.com/news/post-nation/wp/2018/04/19/911-dispatcher-jailed-houston-woman-hung-up-on-thousands-of-callers/?noredirect=on&utm_term=.b4bb2b6e8f37) article). In this case, later analysis showed that thousands of calls shorter than 20 seconds were attributed to her hanging up. She stated that she hung up because at those times she did not want to talk to anyone ([BBC](http://www.bbc.com/news/world-us-canada-43822504)).\n",
    "\n",
    "While 911 callers may hang up at any time, in the vast majority of cases, **the 911 dispatcher should not be the party to terminate the call during a crisis.** If an operator is the party to end a call that has been ranked as likely-severe by the OperatorAware, this should trigger quality assurance review. The latter dispatcher mentioned above hung up on thousands of calls over multiple years. With OperatorAware, she would have come under close scrutiny by the end of her first week\n",
    "\n",
    "## Use case scale\n",
    "The [Washington Post](https://www.washingtonpost.com/news/post-nation/wp/2018/04/19/911-dispatcher-jailed-houston-woman-hung-up-on-thousands-of-callers/?noredirect=on&utm_term=.d2fbe079869a) notes: *This single consolidated center for 911 calls opened in 2003 and handles millions of calls every year, according to the Chronicle, or 9,000 a day. Two-thirds of those calls aren’t true emergencies*\n",
    "\n",
    "*The rest involve people in dire need.*\n",
    "\n"
   ]
  },
  {
   "cell_type": "markdown",
   "metadata": {},
   "source": [
    "# Select dictionary"
   ]
  },
  {
   "cell_type": "code",
   "execution_count": 1,
   "metadata": {},
   "outputs": [],
   "source": [
    "# proof-of-concept dictionary. For actual implementation, would need multiple formes e.g. 'shoot' and 'shot'\n",
    "DangerWords = {'weaponWords': ['knife', 'gun', 'weapon', 'shoot', 'shot', 'armed'],\n",
    "        'medicalWords': ['heart','stroke','breathing','unconscious','collapsed'],\n",
    "        'vehicleWords': ['crash', 'accident','airbag'],\n",
    "        'miscWords': ['violent','suicidal', 'suicide']};"
   ]
  },
  {
   "cell_type": "markdown",
   "metadata": {},
   "source": [
    "## "
   ]
  }
 ],
 "metadata": {
  "kernelspec": {
   "display_name": "Python 3",
   "language": "python",
   "name": "python3"
  },
  "language_info": {
   "codemirror_mode": {
    "name": "ipython",
    "version": 3
   },
   "file_extension": ".py",
   "mimetype": "text/x-python",
   "name": "python",
   "nbconvert_exporter": "python",
   "pygments_lexer": "ipython3",
   "version": "3.6.5"
  }
 },
 "nbformat": 4,
 "nbformat_minor": 2
}

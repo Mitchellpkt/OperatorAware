{
 "cells": [
  {
   "cell_type": "code",
   "execution_count": 2,
   "metadata": {},
   "outputs": [],
   "source": [
    "# return_dictionary.py\n",
    "# Backend, hands up the dictionary file for OperatorAware\n",
    "# \n",
    "#\n",
    "# mthayer@chem.wisc.edu\n",
    "# github.com/mitchellpthayer\n",
    "#\n",
    "##########\n",
    "# INPUTS:\n",
    "#\n",
    "# >> (optional) str_dict_version, allows specification of dictionary version (for smooth swapping)\n",
    "#\t\tdefault = 'newest', which is the most recent iteration\n",
    "#\n",
    "\n",
    "###########\n",
    "# OUTPUTS:\n",
    "# >> DangerWords: a dictionary that lists which words are related to which type of emergency\n",
    "# >> DangerName: the print-friendly names for each category\n",
    "\n",
    "###########\n",
    "# CHANGELOG:\n",
    "#\n",
    "\n",
    "########\n",
    "# TO DO:\n",
    "#\n",
    "\n",
    "#############\n",
    "# EXAMPLE:\n",
    "#\n",
    "\n",
    "def return_dictionary(str_dict_version='newest'):\n",
    "\n",
    "\t# Use newest, if requested\n",
    "\tif str_dict_version == 'newest':\n",
    "\t\tuse_str_dict_version = 'v0'\n",
    "\telse:\n",
    "\t\tuse_str_dict_version = str_dict_version\n",
    "\t\n",
    "\t# Original prescribed dictionary\n",
    "\tif use_str_dict_version == 'v0':\n",
    "\t\tDangerWords = {'weaponWords': ['knife', 'gun', 'weapon', 'shoot', 'shot', 'armed', 'shotgun', 'handgun'],\n",
    "\t\t    'medicalWords': ['heart','stroke','breathing','unconscious','collapsed'],\n",
    "\t\t    'vehicleWords': ['crash', 'accident','airbag'],\n",
    "\t\t    'domesticWords': ['domestic','abuse','fight','argument','arguing','relationship'],\n",
    "\t\t    'fireWords': ['fire','burn','arson'],\n",
    "\t\t    'miscWords': ['violent','suicidal', 'suicide','drunk']};\n",
    "\n",
    "\t\tDangerName = {'weaponWords': 'weapon',\n",
    "\t\t    'medicalWords': 'medical emergency',\n",
    "\t\t    'vehicleWords': 'car crash',\n",
    "\t\t    'domesticWords': 'domestic altercation',\n",
    "\t\t    'fireWords': 'fire',\n",
    "\t\t    'miscWords': 'miscellaneuos'};\n",
    "\n",
    "\treturn DangerWords, DangerName"
   ]
  },
  {
   "cell_type": "code",
   "execution_count": null,
   "metadata": {},
   "outputs": [],
   "source": [
    "DangerWords, DangerDefs ="
   ]
  }
 ],
 "metadata": {
  "kernelspec": {
   "display_name": "Python 3",
   "language": "python",
   "name": "python3"
  },
  "language_info": {
   "codemirror_mode": {
    "name": "ipython",
    "version": 3
   },
   "file_extension": ".py",
   "mimetype": "text/x-python",
   "name": "python",
   "nbconvert_exporter": "python",
   "pygments_lexer": "ipython3",
   "version": "3.6.5"
  }
 },
 "nbformat": 4,
 "nbformat_minor": 2
}

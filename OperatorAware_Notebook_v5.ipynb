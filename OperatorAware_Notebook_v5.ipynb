{
 "cells": [
  {
   "cell_type": "markdown",
   "metadata": {},
   "source": [
    "# OperatorAware\n",
    "## Urgency detection for emergency calls\n",
    "mitchellpkt@protonmail.com\n",
    "\n",
    "OperatorAware evaluates 911 calls in real-time to assess the nature and direness of the emergency being reported.\n",
    "\n",
    "As the human operator collects information, OperatorAware converts the audio stream to text, and scans for keywords indicating critical situations (e.g. the word \"gun\" indicating that there is likely a weapon involved). As the call continues, OperatorAware updates the likelihood of a situation involving:\n",
    "-  Weapons (e.g. inferred from use of words \"gun\" and \"shot\" by a caller)\n",
    "-  Medical emergencies \n",
    "-  Vehicle accidents\n",
    "-  etc\n",
    "\n",
    "## Example\n",
    "Caller reports: **\"My neighbor shot my leg, It's bleeding everywhere! He didn't mean to discharge the gun\"** \n",
    "\n",
    "OperatorAware uses the words {\"shot\", \"bleeding\", \"gun\"} to identify that this is a **medical emergency involving a weapon.**\n",
    "\n",
    "## Motivation\n",
    "There have been multiple reported instances of emergency operators hanging up on 911 callers during crises. \n",
    "\n",
    "For example, one operator who stated \"You could deal with it yourself. I’m not gonna deal with this, okay?” before hanging up on a caller that was performing CPR on a shooting victim ([Washington Post](https://www.washingtonpost.com/news/post-nation/wp/2015/07/29/deal-with-it-yourself-911-dispatcher-tells-panicked-caller-with-dying-friend/?utm_term=.eea24de1e5f3)). \n",
    "\n",
    "Another 911 dispatcher, infamous for ending a call with \"Ain't nobody got time for this,\" hung up on reports of street racing and armerd robberies (different [Washington Post](https://www.washingtonpost.com/news/post-nation/wp/2018/04/19/911-dispatcher-jailed-houston-woman-hung-up-on-thousands-of-callers/?noredirect=on&utm_term=.b4bb2b6e8f37) article). In this case, later analysis showed that thousands of calls shorter than 20 seconds were attributed to her hanging up. She stated that she hung up because at those times she did not want to talk to anyone ([BBC](http://www.bbc.com/news/world-us-canada-43822504)).\n",
    "\n",
    "While 911 callers may hang up at any time, in the vast majority of cases, **the 911 dispatcher should not be the party to terminate the call during a crisis.** If an operator is the party to end a call that has been ranked as likely-severe by the OperatorAware, this should trigger quality assurance review. The latter dispatcher mentioned above hung up on thousands of calls over multiple years. With OperatorAware, she would have come under close scrutiny by the end of her first week\n",
    "\n",
    "## Use case scale\n",
    "The [Washington Post](https://www.washingtonpost.com/news/post-nation/wp/2018/04/19/911-dispatcher-jailed-houston-woman-hung-up-on-thousands-of-callers/?noredirect=on&utm_term=.d2fbe079869a) notes: *This single consolidated center for 911 calls opened in 2003 and handles millions of calls every year, according to the Chronicle, or 9,000 a day. Two-thirds of those calls aren’t true emergencies*\n",
    "\n",
    "*The rest involve people in dire need.*\n",
    "\n",
    "## Changelog\n",
    "-  v1, local processing using PocketSphinx\n",
    "-  v2, trying 2 different implementations of Google voice-to-text (Inst 2 works!)\n",
    "-  v3, cleaning up to the one that works, moving forward\n",
    "-  v4, switched to piecewise (modular) functions\n",
    "-  v5, switching to overhead handler_in_str_to_out_str.py\n"
   ]
  },
  {
   "cell_type": "markdown",
   "metadata": {},
   "source": [
    "## Import libraries"
   ]
  },
  {
   "cell_type": "code",
   "execution_count": 1,
   "metadata": {},
   "outputs": [],
   "source": [
    "import os\n",
    "import sys\n",
    "from operator_aware_lib.handler_in_str_to_out_str import *"
   ]
  },
  {
   "cell_type": "markdown",
   "metadata": {},
   "source": [
    "## Enter name of file to be transcribed"
   ]
  },
  {
   "cell_type": "code",
   "execution_count": 2,
   "metadata": {},
   "outputs": [],
   "source": [
    "sound_filename = 'fire_short'"
   ]
  },
  {
   "cell_type": "markdown",
   "metadata": {},
   "source": [
    "## Call handler_in_str_to_out_str"
   ]
  },
  {
   "cell_type": "code",
   "execution_count": 3,
   "metadata": {
    "scrolled": true
   },
   "outputs": [
    {
     "name": "stdout",
     "output_type": "stream",
     "text": [
      "***************************\n",
      "Imported data from:/home/m/Dropbox/Projects/OperatorAware/GitPath/operatoraware/transcriptions/070164a969c89fc5c85a96c74cfb1abec170f744ca63f6b3475debb9d484b83e.txt\n",
      "Transcription:\n",
      " hello I am calling to report a fire my flask application is going to burn\n"
     ]
    }
   ],
   "source": [
    "### Form filename\n",
    "#str_audio_filename = os.path.join(\n",
    "#     os.getcwd(),\n",
    "#    'Real_911Calls',\n",
    "#    sound_filename + '.flac')\n",
    "\n",
    "results_printout = handler_in_str_to_out_str(sound_filename)"
   ]
  },
  {
   "cell_type": "code",
   "execution_count": 4,
   "metadata": {},
   "outputs": [
    {
     "data": {
      "text/plain": [
       "'<br> Possible fire: fire<br> Possible fire: burn'"
      ]
     },
     "execution_count": 4,
     "metadata": {},
     "output_type": "execute_result"
    }
   ],
   "source": [
    "results_printout"
   ]
  }
 ],
 "metadata": {
  "kernelspec": {
   "display_name": "Python 3",
   "language": "python",
   "name": "python3"
  },
  "language_info": {
   "codemirror_mode": {
    "name": "ipython",
    "version": 3
   },
   "file_extension": ".py",
   "mimetype": "text/x-python",
   "name": "python",
   "nbconvert_exporter": "python",
   "pygments_lexer": "ipython3",
   "version": "3.6.5"
  }
 },
 "nbformat": 4,
 "nbformat_minor": 2
}

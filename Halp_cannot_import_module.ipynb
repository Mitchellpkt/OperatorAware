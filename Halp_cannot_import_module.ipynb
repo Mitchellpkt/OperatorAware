{
 "cells": [
  {
   "cell_type": "markdown",
   "metadata": {},
   "source": [
    "# OperatorAware\n",
    "## Urgency detection for emergency calls\n",
    "mitchellpkt@protonmail.com\n",
    "\n",
    "Python problems ...\n",
    "\n",
    "I have a bunch of functions, each in a separate `FunctionName.py` file\n",
    "\n",
    "Collected the functions in a folder called `operator_aware_lib`\n",
    "\n",
    "Then added an empty`__init.py__` to said folder.\n",
    "\n",
    "I can't figure out, for the life of me, how to import these functions from the directory containing the operator_aware_lib folder. I've tried every combination I could think of for the words \"import\", \"from\", and \"*\"\n",
    "\n",
    "Here is the operator_aware_lib folder: https://github.com/Mitchellpkt/OperatorAware/tree/master/operator_aware_lib\n"
   ]
  },
  {
   "cell_type": "markdown",
   "metadata": {},
   "source": [
    "### Import prelim libraries"
   ]
  },
  {
   "cell_type": "code",
   "execution_count": 6,
   "metadata": {},
   "outputs": [],
   "source": [
    "import os\n",
    "import sys"
   ]
  },
  {
   "cell_type": "markdown",
   "metadata": {},
   "source": [
    "### Add current directory (containing the folder with my module) to the path"
   ]
  },
  {
   "cell_type": "code",
   "execution_count": 33,
   "metadata": {},
   "outputs": [
    {
     "name": "stdout",
     "output_type": "stream",
     "text": [
      "['/home/m/Dropbox/Projects/OperatorAware/GitPath']\n"
     ]
    }
   ],
   "source": [
    "module_path = os.path.abspath(os.path.join('./operator_aware_lib'))\n",
    "if module_path not in sys.path:\n",
    "    sys.path.append(module_path)\n",
    "    \n",
    "\n",
    "# Verify that it is on the path    \n",
    "print(sys.path[-1:])\n",
    "\n",
    "# Import the package\n",
    "from operator_aware_lib.return_dictionary import return_dictionary"
   ]
  },
  {
   "cell_type": "code",
   "execution_count": 25,
   "metadata": {},
   "outputs": [],
   "source": [
    "import os\n",
    "import sys\n",
    "nb_dir = os.path.split(os.getcwd())[0]\n",
    "if nb_dir not in sys.path:\n",
    "    sys.path.append(nb_dir)"
   ]
  },
  {
   "cell_type": "markdown",
   "metadata": {},
   "source": [
    "### Verify that it is on the path    "
   ]
  },
  {
   "cell_type": "code",
   "execution_count": 30,
   "metadata": {},
   "outputs": [
    {
     "data": {
      "text/plain": [
       "['',\n",
       " '/home/m/anaconda3/lib/python36.zip',\n",
       " '/home/m/anaconda3/lib/python3.6',\n",
       " '/home/m/anaconda3/lib/python3.6/lib-dynload',\n",
       " '/home/m/anaconda3/lib/python3.6/site-packages',\n",
       " '/home/m/anaconda3/lib/python3.6/site-packages/IPython/extensions',\n",
       " '/home/m/.ipython',\n",
       " '/home/m/Dropbox/Projects/OperatorAware/GitPath/operatoraware',\n",
       " '/home/m/Dropbox/Projects/OperatorAware/GitPath/operatoraware/operator_aware_lib',\n",
       " '/home/m/Dropbox/Projects/OperatorAware/GitPath']"
      ]
     },
     "execution_count": 30,
     "metadata": {},
     "output_type": "execute_result"
    }
   ],
   "source": [
    "sys.path"
   ]
  },
  {
   "cell_type": "markdown",
   "metadata": {},
   "source": [
    "### Import the package"
   ]
  },
  {
   "cell_type": "code",
   "execution_count": 32,
   "metadata": {},
   "outputs": [],
   "source": [
    "import operator_aware_lib"
   ]
  },
  {
   "cell_type": "markdown",
   "metadata": {},
   "source": [
    "### Test the simple return_dictionary() function"
   ]
  },
  {
   "cell_type": "code",
   "execution_count": 34,
   "metadata": {},
   "outputs": [],
   "source": [
    "A, B = return_dictionary()"
   ]
  },
  {
   "cell_type": "code",
   "execution_count": 35,
   "metadata": {},
   "outputs": [
    {
     "data": {
      "text/plain": [
       "{'weaponWords': ['knife',\n",
       "  'gun',\n",
       "  'weapon',\n",
       "  'shoot',\n",
       "  'shot',\n",
       "  'armed',\n",
       "  'shotgun',\n",
       "  'handgun'],\n",
       " 'medicalWords': ['heart', 'stroke', 'breathing', 'unconscious', 'collapsed'],\n",
       " 'vehicleWords': ['crash', 'accident', 'airbag'],\n",
       " 'domesticWords': ['domestic',\n",
       "  'abuse',\n",
       "  'fight',\n",
       "  'argument',\n",
       "  'arguing',\n",
       "  'relationship'],\n",
       " 'fireWords': ['fire', 'burn', 'arson'],\n",
       " 'miscWords': ['violent', 'suicidal', 'suicide', 'drunk']}"
      ]
     },
     "execution_count": 35,
     "metadata": {},
     "output_type": "execute_result"
    }
   ],
   "source": [
    "A"
   ]
  },
  {
   "cell_type": "code",
   "execution_count": null,
   "metadata": {},
   "outputs": [],
   "source": []
  }
 ],
 "metadata": {
  "kernelspec": {
   "display_name": "Python 3",
   "language": "python",
   "name": "python3"
  },
  "language_info": {
   "codemirror_mode": {
    "name": "ipython",
    "version": 3
   },
   "file_extension": ".py",
   "mimetype": "text/x-python",
   "name": "python",
   "nbconvert_exporter": "python",
   "pygments_lexer": "ipython3",
   "version": "3.6.5"
  }
 },
 "nbformat": 4,
 "nbformat_minor": 2
}

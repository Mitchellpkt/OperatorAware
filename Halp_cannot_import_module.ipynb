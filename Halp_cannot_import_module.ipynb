{
 "cells": [
  {
   "cell_type": "markdown",
   "metadata": {},
   "source": [
    "# OperatorAware\n",
    "## Urgency detection for emergency calls\n",
    "mitchellpkt@protonmail.com\n",
    "\n",
    "Python problems ...\n",
    "\n",
    "I have a bunch of functions, each in a separate `FunctionName.py` file\n",
    "\n",
    "Collected the functions in a folder called `operator_aware_lib`\n",
    "\n",
    "Then added an empty`__init.py__` to said folder.\n",
    "\n",
    "I can't figure out, for the life of me, how to import these functions from the directory containing the operator_aware_lib folder. I've tried every combination I could think of for the words \"import\", \"from\", and \"*\"\n",
    "\n",
    "Here is the operator_aware_lib folder: https://github.com/Mitchellpkt/OperatorAware/tree/master/operator_aware_lib\n"
   ]
  },
  {
   "cell_type": "markdown",
   "metadata": {},
   "source": [
    "### Import prelim libraries"
   ]
  },
  {
   "cell_type": "code",
   "execution_count": 6,
   "metadata": {},
   "outputs": [],
   "source": [
    "import os\n",
    "import sys"
   ]
  },
  {
   "cell_type": "markdown",
   "metadata": {},
   "source": [
    "### Add current directory (containing the folder with my module) to the path"
   ]
  },
  {
   "cell_type": "code",
   "execution_count": 7,
   "metadata": {},
   "outputs": [
    {
     "name": "stdout",
     "output_type": "stream",
     "text": [
      "['/home/m/Dropbox/Projects/OperatorAware/GitPath/operatoraware']\n"
     ]
    }
   ],
   "source": [
    "module_path = os.path.abspath(os.path.join('.'))\n",
    "if module_path not in sys.path:\n",
    "    sys.path.append(module_path)\n",
    "    \n",
    "\n",
    "# Verify that it is on the path    \n",
    "print(sys.path[-1:])\n",
    "\n",
    "# Import the package\n",
    "import operator_aware_lib"
   ]
  },
  {
   "cell_type": "markdown",
   "metadata": {},
   "source": [
    "### Verify that it is on the path    "
   ]
  },
  {
   "cell_type": "code",
   "execution_count": 8,
   "metadata": {},
   "outputs": [
    {
     "data": {
      "text/plain": [
       "['',\n",
       " '/home/m/anaconda3/lib/python36.zip',\n",
       " '/home/m/anaconda3/lib/python3.6',\n",
       " '/home/m/anaconda3/lib/python3.6/lib-dynload',\n",
       " '/home/m/anaconda3/lib/python3.6/site-packages',\n",
       " '/home/m/anaconda3/lib/python3.6/site-packages/IPython/extensions',\n",
       " '/home/m/.ipython',\n",
       " '/home/m/Dropbox/Projects/OperatorAware/GitPath/operatoraware']"
      ]
     },
     "execution_count": 8,
     "metadata": {},
     "output_type": "execute_result"
    }
   ],
   "source": [
    "sys.path"
   ]
  },
  {
   "cell_type": "markdown",
   "metadata": {},
   "source": [
    "### Import the package"
   ]
  },
  {
   "cell_type": "code",
   "execution_count": 9,
   "metadata": {},
   "outputs": [],
   "source": [
    "import operator_aware_lib"
   ]
  },
  {
   "cell_type": "markdown",
   "metadata": {},
   "source": [
    "### Test the simple return_dictionary() function"
   ]
  },
  {
   "cell_type": "code",
   "execution_count": 10,
   "metadata": {},
   "outputs": [
    {
     "ename": "AttributeError",
     "evalue": "module 'operator_aware_lib' has no attribute 'return_dictionary'",
     "output_type": "error",
     "traceback": [
      "\u001b[0;31m---------------------------------------------------------------------------\u001b[0m",
      "\u001b[0;31mAttributeError\u001b[0m                            Traceback (most recent call last)",
      "\u001b[0;32m<ipython-input-10-a71dca9693f3>\u001b[0m in \u001b[0;36m<module>\u001b[0;34m()\u001b[0m\n\u001b[0;32m----> 1\u001b[0;31m \u001b[0mA\u001b[0m\u001b[0;34m,\u001b[0m \u001b[0mB\u001b[0m \u001b[0;34m=\u001b[0m \u001b[0moperator_aware_lib\u001b[0m\u001b[0;34m.\u001b[0m\u001b[0mreturn_dictionary\u001b[0m\u001b[0;34m(\u001b[0m\u001b[0;34m)\u001b[0m\u001b[0;34m\u001b[0m\u001b[0m\n\u001b[0m",
      "\u001b[0;31mAttributeError\u001b[0m: module 'operator_aware_lib' has no attribute 'return_dictionary'"
     ]
    }
   ],
   "source": [
    "A, B = operator_aware_lib.return_dictionary()"
   ]
  }
 ],
 "metadata": {
  "kernelspec": {
   "display_name": "Python 3",
   "language": "python",
   "name": "python3"
  },
  "language_info": {
   "codemirror_mode": {
    "name": "ipython",
    "version": 3
   },
   "file_extension": ".py",
   "mimetype": "text/x-python",
   "name": "python",
   "nbconvert_exporter": "python",
   "pygments_lexer": "ipython3",
   "version": "3.6.5"
  }
 },
 "nbformat": 4,
 "nbformat_minor": 2
}

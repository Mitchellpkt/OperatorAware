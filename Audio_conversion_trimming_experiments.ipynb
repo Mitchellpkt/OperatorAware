{
 "cells": [
  {
   "cell_type": "markdown",
   "metadata": {},
   "source": [
    "# Test audio conversions and trimming\n",
    "\n",
    "Need FLAC input for `transcribe_audio_cloud()` however, would like to accept other inputs\n",
    "\n",
    "-----\n",
    "\n",
    "START: MP3, WAV, etc files\n",
    "\n",
    "<... need to slice, and convert, but order is optional ...>\n",
    "\n",
    "END: FLAC for transcription\n",
    "\n",
    "-----\n",
    "\n",
    "Two promising examples:\n",
    "-  pydub\n",
    "-  python audio tools\n",
    "Both described here: https://stackoverflow.com/questions/23925494/how-to-convert-wav-to-flac-from-python"
   ]
  },
  {
   "cell_type": "markdown",
   "metadata": {},
   "source": [
    "# Import the file"
   ]
  },
  {
   "cell_type": "code",
   "execution_count": 8,
   "metadata": {},
   "outputs": [],
   "source": [
    "testfilename = 'murder_short'"
   ]
  },
  {
   "cell_type": "code",
   "execution_count": null,
   "metadata": {},
   "outputs": [],
   "source": []
  },
  {
   "cell_type": "code",
   "execution_count": null,
   "metadata": {},
   "outputs": [],
   "source": []
  },
  {
   "cell_type": "markdown",
   "metadata": {},
   "source": [
    "# Method 1: Pydub"
   ]
  },
  {
   "cell_type": "code",
   "execution_count": 4,
   "metadata": {},
   "outputs": [],
   "source": [
    "# !pip install pydub\n",
    "# !sudo apt-get install ffmpeg"
   ]
  },
  {
   "cell_type": "code",
   "execution_count": 3,
   "metadata": {},
   "outputs": [
    {
     "data": {
      "text/plain": [
       "<_io.BufferedRandom name='testme.flac'>"
      ]
     },
     "execution_count": 3,
     "metadata": {},
     "output_type": "execute_result"
    }
   ],
   "source": [
    "# here is working conversion from wav\n",
    "\n",
    "from pydub import AudioSegment\n",
    "song = AudioSegment.from_wav(testfilename+'.wav')\n",
    "song.export(\"testme.flac\",format = \"flac\")"
   ]
  },
  {
   "cell_type": "code",
   "execution_count": 9,
   "metadata": {},
   "outputs": [
    {
     "data": {
      "text/plain": [
       "<_io.BufferedRandom name='testme.flac'>"
      ]
     },
     "execution_count": 9,
     "metadata": {},
     "output_type": "execute_result"
    }
   ],
   "source": [
    "# Let's try from mp3\n",
    "\n",
    "from pydub import AudioSegment\n",
    "song = AudioSegment.from_mp3(testfilename+'.mp3')\n",
    "song.export(\"testme.flac\",format=\"flac\")"
   ]
  },
  {
   "cell_type": "markdown",
   "metadata": {},
   "source": [
    "# Method 2: python audio tools"
   ]
  },
  {
   "cell_type": "code",
   "execution_count": 42,
   "metadata": {},
   "outputs": [],
   "source": [
    "def convert_audio(str_audio_filename):\n",
    "    \n",
    "    #!pip install pydub\n",
    "    #!sudo apt-get install ffmpeg\n",
    "    \n",
    "    from pydub import AudioSegment\n",
    "    import re\n",
    "    import os\n",
    "    \n",
    "    str_extension = str_audio_filename[-3:]\n",
    "    print(str_extension)\n",
    "    \n",
    "    if str_extension.upper() == 'MP3':\n",
    "        print('Converting from ' + str_extension)\n",
    "        new_filename = re.sub('(?i)'+re.escape(str_extension), lambda m: 'flac', str_audio_filename)\n",
    "        audio_data = AudioSegment.from_mp3(str_audio_filename)\n",
    "        audio_data.export(new_filename,format=\"flac\")\n",
    "    \n",
    "    elif str_extension.upper() == 'WAV':\n",
    "        print('Converting from ' + str_extension)\n",
    "        new_filename = re.sub('(?i)'+re.escape(str_extension), lambda m: 'flac', str_audio_filename)\n",
    "        audio_data = AudioSegment.from_wav(str_audio_filename)\n",
    "        audio_data.export(new_filename,format=\"flac\")\n",
    "        \n",
    "    elif str_extension.upper() == 'LAC':\n",
    "        # sets to lower case\n",
    "        print('Received FLAC')\n",
    "        new_filename = re.sub('(?i)'+re.escape('flac'), lambda m: 'flac', str_audio_filename)\n",
    "        os.rename(str_audio_filename, new_filename)\n",
    "        \n",
    "    else:\n",
    "        print('***************************')\n",
    "        print('FILETYPE NOT RECOGNIZED!!!!')\n",
    "    \n",
    "    return new_filename"
   ]
  },
  {
   "cell_type": "code",
   "execution_count": 43,
   "metadata": {},
   "outputs": [
    {
     "name": "stdout",
     "output_type": "stream",
     "text": [
      "LAC\n",
      "Received FLAC\n"
     ]
    }
   ],
   "source": [
    "x = convert_audio('murder_short.FLAC')"
   ]
  }
 ],
 "metadata": {
  "kernelspec": {
   "display_name": "Python 3",
   "language": "python",
   "name": "python3"
  },
  "language_info": {
   "codemirror_mode": {
    "name": "ipython",
    "version": 3
   },
   "file_extension": ".py",
   "mimetype": "text/x-python",
   "name": "python",
   "nbconvert_exporter": "python",
   "pygments_lexer": "ipython3",
   "version": "3.6.5"
  }
 },
 "nbformat": 4,
 "nbformat_minor": 2
}

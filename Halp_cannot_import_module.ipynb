{
 "cells": [
  {
   "cell_type": "markdown",
   "metadata": {},
   "source": [
    "# OperatorAware\n",
    "## Urgency detection for emergency calls\n",
    "mitchellpkt@protonmail.com\n",
    "\n",
    "Python problems ...\n",
    "\n",
    "I have a bunch of functions, each in a separate `FunctionName.py` file\n",
    "\n",
    "Collected the functions in a folder called `operator_aware_lib`\n",
    "\n",
    "Then added an empty`__init.py__` to said folder.\n",
    "\n",
    "I can't figure out, for the life of me, how to import these functions from the directory containing the operator_aware_lib folder. I've tried every combination I could think of for the words \"import\", \"from\", and \"*\"\n",
    "\n",
    "Here is the operator_aware_lib folder: https://github.com/Mitchellpkt/OperatorAware/tree/master/operator_aware_lib\n"
   ]
  },
  {
   "cell_type": "markdown",
   "metadata": {},
   "source": [
    "### Import prelim libraries"
   ]
  },
  {
   "cell_type": "code",
   "execution_count": 2,
   "metadata": {},
   "outputs": [],
   "source": [
    "import os\n",
    "import sys"
   ]
  },
  {
   "cell_type": "markdown",
   "metadata": {},
   "source": [
    "### Add current directory (containing the folder with my module) to the path"
   ]
  },
  {
   "cell_type": "code",
   "execution_count": 3,
   "metadata": {},
   "outputs": [
    {
     "name": "stdout",
     "output_type": "stream",
     "text": [
      "['/home/m/Dropbox/Projects/OperatorAware/GitPath/operatoraware']\n"
     ]
    }
   ],
   "source": [
    "module_path = os.path.abspath(os.path.join('.'))\n",
    "if module_path not in sys.path:\n",
    "    sys.path.append(module_path)\n",
    "    \n",
    "\n",
    "# Verify that it is on the path    \n",
    "print(sys.path[-1:])\n",
    "\n",
    "# Import the package\n",
    "import operator_aware_lib"
   ]
  },
  {
   "cell_type": "markdown",
   "metadata": {},
   "source": [
    "### Verify that it is on the path    "
   ]
  },
  {
   "cell_type": "code",
   "execution_count": null,
   "metadata": {},
   "outputs": [],
   "source": [
    "sys.path"
   ]
  },
  {
   "cell_type": "markdown",
   "metadata": {},
   "source": [
    "### Import the package"
   ]
  },
  {
   "cell_type": "code",
   "execution_count": 4,
   "metadata": {},
   "outputs": [],
   "source": [
    "import operator_aware_lib"
   ]
  },
  {
   "cell_type": "code",
   "execution_count": null,
   "metadata": {},
   "outputs": [],
   "source": [
    "### Test the simple return_dictionary() function"
   ]
  },
  {
   "cell_type": "markdown",
   "metadata": {},
   "source": [
    "## Enter name of file to be transcribed"
   ]
  },
  {
   "cell_type": "code",
   "execution_count": null,
   "metadata": {},
   "outputs": [],
   "source": [
    "sound_filename = 'fire_short.flac'"
   ]
  },
  {
   "cell_type": "markdown",
   "metadata": {},
   "source": [
    "## Load in the audio file"
   ]
  },
  {
   "cell_type": "code",
   "execution_count": null,
   "metadata": {
    "scrolled": true
   },
   "outputs": [],
   "source": [
    "### Form filename\n",
    "str_audio_filename = os.path.join(\n",
    "     os.getcwd(),\n",
    "    'Real_911Calls',\n",
    "    sound_filename + '.flac')\n",
    "\n",
    "audio_data, audio_config = operator_aware_lib.load_audio_from_filename(str_audio_filename)"
   ]
  },
  {
   "cell_type": "markdown",
   "metadata": {},
   "source": [
    "## Use hash of audio data to store its transcription"
   ]
  },
  {
   "cell_type": "code",
   "execution_count": null,
   "metadata": {},
   "outputs": [],
   "source": [
    "import hashlib\n",
    "hash_object = hashlib.sha256(audio.SerializePartialToString())\n",
    "hex_dig = hash_object.hexdigest()\n",
    "print(hex_dig)"
   ]
  },
  {
   "cell_type": "markdown",
   "metadata": {},
   "source": [
    "## Instantiate a client"
   ]
  },
  {
   "cell_type": "code",
   "execution_count": null,
   "metadata": {},
   "outputs": [],
   "source": [
    "!export GOOGLE_APPLICATION_CREDENTIALS=\"/home/m/Dropbox/Projects/OperatorAware/GitPath/operatoraware/OperatorAware-5f653aaf3399.json\"\n",
    "client = speech.SpeechClient()"
   ]
  },
  {
   "cell_type": "markdown",
   "metadata": {},
   "source": [
    "## Has this call been transcribed?"
   ]
  },
  {
   "cell_type": "code",
   "execution_count": null,
   "metadata": {},
   "outputs": [],
   "source": [
    "# Where would/should the transcript file be stored\n",
    "\n",
    "transcription_filename = os.path.join(\n",
    "     os.getcwd(),\n",
    "    'transcriptions',\n",
    "    sound_filename+'.txt')\n",
    "\n",
    "does_transcription_exist = os.path.isfile(transcription_filename)"
   ]
  },
  {
   "cell_type": "markdown",
   "metadata": {},
   "source": [
    "## Process or import the call"
   ]
  },
  {
   "cell_type": "code",
   "execution_count": null,
   "metadata": {},
   "outputs": [],
   "source": [
    "if does_transcription_exist == True:\n",
    "    with open(transcription_filename,'r') as f_open:\n",
    "        TranscriptionString = f_open.read()\n",
    "        \n",
    "    print('***************************')\n",
    "    print('Imported data from:' + transcription_filename)\n",
    "    print('Transcription:')\n",
    "    print(TranscriptionString)\n",
    "\n",
    "else:\n",
    "    # Detect speech in the audio file\n",
    "    response = client.recognize(config, audio)\n",
    "\n",
    "    TranscriptionString = ''\n",
    "    for result in response.results:\n",
    "        #print('Transcript: {}'.format(result.alternatives[0].transcript))\n",
    "        TranscriptionString += ' ' + format(result.alternatives[0].transcript)\n",
    "        \n",
    "    with open(transcription_filename,'w') as f_open:\n",
    "        f_open.write(TranscriptionString)\n",
    "        f_open.close()\n",
    "    \n",
    "    print('***************************')\n",
    "    print('Fresh transcription stored in: '+ transcription_filename)\n",
    "    print('Transcription:')\n",
    "    print(TranscriptionString)\n",
    "        "
   ]
  },
  {
   "cell_type": "markdown",
   "metadata": {},
   "source": [
    "## Display transcription"
   ]
  },
  {
   "cell_type": "code",
   "execution_count": null,
   "metadata": {},
   "outputs": [],
   "source": [
    "print(TranscriptionString)"
   ]
  },
  {
   "cell_type": "markdown",
   "metadata": {},
   "source": [
    "## Search transcription for keywords"
   ]
  },
  {
   "cell_type": "code",
   "execution_count": null,
   "metadata": {},
   "outputs": [],
   "source": [
    "HeardWords = []\n",
    "is_anything_important = 0\n",
    "\n",
    "for danger_cat in DangerWords.keys():\n",
    "    ThisCategory = DangerWords[danger_cat]\n",
    "    for keyword in ThisCategory:\n",
    "        if keyword in TranscriptionString:\n",
    "            is_anything_important = 1\n",
    "            print('Possible ' + DangerDefs[danger_cat] + ': ' + keyword)"
   ]
  },
  {
   "cell_type": "markdown",
   "metadata": {},
   "source": [
    "## Classify call"
   ]
  },
  {
   "cell_type": "code",
   "execution_count": null,
   "metadata": {},
   "outputs": [],
   "source": [
    "if is_anything_important == 1:\n",
    "    print('!!!!!!!!!!!!!!!!!!!!!!!!!!!!!!!!!!!!!!!!!!!!!!!')\n",
    "    print('Likely emergency; operator should not terminate')\n",
    "else:\n",
    "    print('---------------------')\n",
    "    print('No emergency detected')"
   ]
  },
  {
   "cell_type": "code",
   "execution_count": null,
   "metadata": {},
   "outputs": [],
   "source": []
  }
 ],
 "metadata": {
  "kernelspec": {
   "display_name": "Python 3",
   "language": "python",
   "name": "python3"
  },
  "language_info": {
   "codemirror_mode": {
    "name": "ipython",
    "version": 3
   },
   "file_extension": ".py",
   "mimetype": "text/x-python",
   "name": "python",
   "nbconvert_exporter": "python",
   "pygments_lexer": "ipython3",
   "version": "3.6.5"
  }
 },
 "nbformat": 4,
 "nbformat_minor": 2
}

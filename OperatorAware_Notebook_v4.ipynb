{
 "cells": [
  {
   "cell_type": "markdown",
   "metadata": {},
   "source": [
    "# OperatorAware\n",
    "## Urgency detection for emergency calls\n",
    "mitchellpkt@protonmail.com\n",
    "\n",
    "OperatorAware evaluates 911 calls in real-time to assess the nature and direness of the emergency being reported.\n",
    "\n",
    "As the human operator collects information, OperatorAware converts the audio stream to text, and scans for keywords indicating critical situations (e.g. the word \"gun\" indicating that there is likely a weapon involved). As the call continues, OperatorAware updates the likelihood of a situation involving:\n",
    "-  Weapons (e.g. inferred from use of words \"gun\" and \"shot\" by a caller)\n",
    "-  Medical emergencies \n",
    "-  Vehicle accidents\n",
    "-  etc\n",
    "\n",
    "## Example\n",
    "Caller reports: **\"My neighbor shot my leg, It's bleeding everywhere! He didn't mean to discharge the gun\"** \n",
    "\n",
    "OperatorAware uses the words {\"shot\", \"bleeding\", \"gun\"} to identify that this is a **medical emergency involving a weapon.**\n",
    "\n",
    "## Motivation\n",
    "There have been multiple reported instances of emergency operators hanging up on 911 callers during crises. \n",
    "\n",
    "For example, one operator who stated \"You could deal with it yourself. I’m not gonna deal with this, okay?” before hanging up on a caller that was performing CPR on a shooting victim ([Washington Post](https://www.washingtonpost.com/news/post-nation/wp/2015/07/29/deal-with-it-yourself-911-dispatcher-tells-panicked-caller-with-dying-friend/?utm_term=.eea24de1e5f3)). \n",
    "\n",
    "Another 911 dispatcher, infamous for ending a call with \"Ain't nobody got time for this,\" hung up on reports of street racing and armerd robberies (different [Washington Post](https://www.washingtonpost.com/news/post-nation/wp/2018/04/19/911-dispatcher-jailed-houston-woman-hung-up-on-thousands-of-callers/?noredirect=on&utm_term=.b4bb2b6e8f37) article). In this case, later analysis showed that thousands of calls shorter than 20 seconds were attributed to her hanging up. She stated that she hung up because at those times she did not want to talk to anyone ([BBC](http://www.bbc.com/news/world-us-canada-43822504)).\n",
    "\n",
    "While 911 callers may hang up at any time, in the vast majority of cases, **the 911 dispatcher should not be the party to terminate the call during a crisis.** If an operator is the party to end a call that has been ranked as likely-severe by the OperatorAware, this should trigger quality assurance review. The latter dispatcher mentioned above hung up on thousands of calls over multiple years. With OperatorAware, she would have come under close scrutiny by the end of her first week\n",
    "\n",
    "## Use case scale\n",
    "The [Washington Post](https://www.washingtonpost.com/news/post-nation/wp/2018/04/19/911-dispatcher-jailed-houston-woman-hung-up-on-thousands-of-callers/?noredirect=on&utm_term=.d2fbe079869a) notes: *This single consolidated center for 911 calls opened in 2003 and handles millions of calls every year, according to the Chronicle, or 9,000 a day. Two-thirds of those calls aren’t true emergencies*\n",
    "\n",
    "*The rest involve people in dire need.*\n",
    "\n",
    "## Changelog\n",
    "-  v1, local processing using PocketSphinx\n",
    "-  v2, trying 2 different implementations of Google voice-to-text (Inst 2 works!)\n",
    "-  v3, cleaning up to the one that works, moving forward\n"
   ]
  },
  {
   "cell_type": "markdown",
   "metadata": {},
   "source": [
    "## Import libraries"
   ]
  },
  {
   "cell_type": "code",
   "execution_count": 23,
   "metadata": {},
   "outputs": [],
   "source": [
    "import os\n",
    "import sys\n",
    "from operator_aware_lib.load_audio_from_filename import *\n",
    "from operator_aware_lib.evaluate_string import *\n",
    "from operator_aware_lib.return_dictionary import *\n",
    "from operator_aware_lib.fetch_transcript import *"
   ]
  },
  {
   "cell_type": "markdown",
   "metadata": {},
   "source": [
    "## Enter name of file to be transcribed"
   ]
  },
  {
   "cell_type": "code",
   "execution_count": 2,
   "metadata": {},
   "outputs": [],
   "source": [
    "sound_filename = 'fire_short'"
   ]
  },
  {
   "cell_type": "markdown",
   "metadata": {},
   "source": [
    "## Load in the audio file"
   ]
  },
  {
   "cell_type": "code",
   "execution_count": 3,
   "metadata": {
    "scrolled": true
   },
   "outputs": [],
   "source": [
    "### Form filename\n",
    "str_audio_filename = os.path.join(\n",
    "     os.getcwd(),\n",
    "    'Real_911Calls',\n",
    "    sound_filename + '.flac')\n",
    "\n",
    "audio_data, audio_config = load_audio_from_filename(str_audio_filename)"
   ]
  },
  {
   "cell_type": "markdown",
   "metadata": {},
   "source": [
    "## Retrieve the transcription"
   ]
  },
  {
   "cell_type": "code",
   "execution_count": 24,
   "metadata": {},
   "outputs": [
    {
     "ename": "NameError",
     "evalue": "name 'transcribe_audio_cloud' is not defined",
     "output_type": "error",
     "traceback": [
      "\u001b[0;31m---------------------------------------------------------------------------\u001b[0m",
      "\u001b[0;31mNameError\u001b[0m                                 Traceback (most recent call last)",
      "\u001b[0;32m<ipython-input-24-3a585c624d91>\u001b[0m in \u001b[0;36m<module>\u001b[0;34m()\u001b[0m\n\u001b[1;32m      3\u001b[0m     'transcriptions')\n\u001b[1;32m      4\u001b[0m \u001b[0;34m\u001b[0m\u001b[0m\n\u001b[0;32m----> 5\u001b[0;31m \u001b[0mfetch_transcript\u001b[0m\u001b[0;34m(\u001b[0m\u001b[0maudio_data\u001b[0m\u001b[0;34m,\u001b[0m \u001b[0maudio_config\u001b[0m\u001b[0;34m,\u001b[0m\u001b[0mtranscript_directory\u001b[0m\u001b[0;34m,\u001b[0m\u001b[0mqVerbose\u001b[0m\u001b[0;34m=\u001b[0m\u001b[0;36m1\u001b[0m\u001b[0;34m,\u001b[0m\u001b[0mforce_fresh\u001b[0m\u001b[0;34m=\u001b[0m\u001b[0;36m0\u001b[0m\u001b[0;34m,\u001b[0m\u001b[0mdo_not_save\u001b[0m\u001b[0;34m=\u001b[0m\u001b[0;36m0\u001b[0m\u001b[0;34m)\u001b[0m\u001b[0;34m\u001b[0m\u001b[0m\n\u001b[0m",
      "\u001b[0;32m~/Dropbox/Projects/OperatorAware/GitPath/operatoraware/operator_aware_lib/fetch_transcript.py\u001b[0m in \u001b[0;36mfetch_transcript\u001b[0;34m(audio_data, audio_config, transcript_directory, qVerbose, force_fresh, do_not_save)\u001b[0m\n\u001b[1;32m     63\u001b[0m             \u001b[0mprint\u001b[0m\u001b[0;34m(\u001b[0m\u001b[0mtranscription_str\u001b[0m\u001b[0;34m)\u001b[0m\u001b[0;34m\u001b[0m\u001b[0m\n\u001b[1;32m     64\u001b[0m \u001b[0;34m\u001b[0m\u001b[0m\n\u001b[0;32m---> 65\u001b[0;31m     \u001b[0;32melse\u001b[0m\u001b[0;34m:\u001b[0m\u001b[0;34m\u001b[0m\u001b[0m\n\u001b[0m\u001b[1;32m     66\u001b[0m         \u001b[0;31m# Detect speech in the audio file\u001b[0m\u001b[0;34m\u001b[0m\u001b[0;34m\u001b[0m\u001b[0m\n\u001b[1;32m     67\u001b[0m         \u001b[0mprint\u001b[0m\u001b[0;34m(\u001b[0m\u001b[0;34m'-o-'\u001b[0m\u001b[0;34m)\u001b[0m\u001b[0;34m\u001b[0m\u001b[0m\n",
      "\u001b[0;31mNameError\u001b[0m: name 'transcribe_audio_cloud' is not defined"
     ]
    }
   ],
   "source": [
    "transcript_directory = os.path.join(\n",
    "     os.getcwd(),\n",
    "    'transcriptions')\n",
    "\n",
    "fetch_transcript(audio_data, audio_config,transcript_directory,qVerbose=1,force_fresh=0,do_not_save=0)\n",
    "\n"
   ]
  },
  {
   "cell_type": "markdown",
   "metadata": {},
   "source": [
    "## Has this call been transcribed?"
   ]
  },
  {
   "cell_type": "code",
   "execution_count": null,
   "metadata": {},
   "outputs": [],
   "source": [
    "# Where would/should the transcript file be stored\n",
    "\n",
    "transcription_filename = os.path.join(\n",
    "     os.getcwd(),\n",
    "    'transcriptions',\n",
    "    sound_filename+'.txt')\n",
    "\n",
    "does_transcription_exist = os.path.isfile(transcription_filename)"
   ]
  },
  {
   "cell_type": "markdown",
   "metadata": {},
   "source": [
    "## Process or import the call"
   ]
  },
  {
   "cell_type": "code",
   "execution_count": null,
   "metadata": {},
   "outputs": [],
   "source": [
    "if does_transcription_exist == True:\n",
    "    with open(transcription_filename,'r') as f_open:\n",
    "        TranscriptionString = f_open.read()\n",
    "        \n",
    "    print('***************************')\n",
    "    print('Imported data from:' + transcription_filename)\n",
    "    print('Transcription:')\n",
    "    print(TranscriptionString)\n",
    "\n",
    "else:\n",
    "    # Detect speech in the audio file\n",
    "    response = client.recognize(config, audio)\n",
    "\n",
    "    TranscriptionString = ''\n",
    "    for result in response.results:\n",
    "        #print('Transcript: {}'.format(result.alternatives[0].transcript))\n",
    "        TranscriptionString += ' ' + format(result.alternatives[0].transcript)\n",
    "        \n",
    "    with open(transcription_filename,'w') as f_open:\n",
    "        f_open.write(TranscriptionString)\n",
    "        f_open.close()\n",
    "    \n",
    "    print('***************************')\n",
    "    print('Fresh transcription stored in: '+ transcription_filename)\n",
    "    print('Transcription:')\n",
    "    print(TranscriptionString)\n",
    "        "
   ]
  },
  {
   "cell_type": "markdown",
   "metadata": {},
   "source": [
    "## Display transcription"
   ]
  },
  {
   "cell_type": "code",
   "execution_count": null,
   "metadata": {},
   "outputs": [],
   "source": [
    "print(TranscriptionString)"
   ]
  },
  {
   "cell_type": "markdown",
   "metadata": {},
   "source": [
    "## Search transcription for keywords"
   ]
  },
  {
   "cell_type": "code",
   "execution_count": null,
   "metadata": {},
   "outputs": [],
   "source": [
    "HeardWords = []\n",
    "is_anything_important = 0\n",
    "\n",
    "for danger_cat in DangerWords.keys():\n",
    "    ThisCategory = DangerWords[danger_cat]\n",
    "    for keyword in ThisCategory:\n",
    "        if keyword in TranscriptionString:\n",
    "            is_anything_important = 1\n",
    "            print('Possible ' + DangerDefs[danger_cat] + ': ' + keyword)"
   ]
  },
  {
   "cell_type": "markdown",
   "metadata": {},
   "source": [
    "## Classify call"
   ]
  },
  {
   "cell_type": "code",
   "execution_count": null,
   "metadata": {},
   "outputs": [],
   "source": [
    "if is_anything_important == 1:\n",
    "    print('!!!!!!!!!!!!!!!!!!!!!!!!!!!!!!!!!!!!!!!!!!!!!!!')\n",
    "    print('Likely emergency; operator should not terminate')\n",
    "else:\n",
    "    print('---------------------')\n",
    "    print('No emergency detected')"
   ]
  },
  {
   "cell_type": "code",
   "execution_count": null,
   "metadata": {},
   "outputs": [],
   "source": []
  }
 ],
 "metadata": {
  "kernelspec": {
   "display_name": "Python 3",
   "language": "python",
   "name": "python3"
  },
  "language_info": {
   "codemirror_mode": {
    "name": "ipython",
    "version": 3
   },
   "file_extension": ".py",
   "mimetype": "text/x-python",
   "name": "python",
   "nbconvert_exporter": "python",
   "pygments_lexer": "ipython3",
   "version": "3.6.5"
  }
 },
 "nbformat": 4,
 "nbformat_minor": 2
}
